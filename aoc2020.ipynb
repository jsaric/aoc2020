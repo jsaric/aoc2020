{
 "cells": [
  {
   "cell_type": "markdown",
   "metadata": {},
   "source": [
    "# Imports and Utilities"
   ]
  },
  {
   "cell_type": "code",
   "execution_count": 4,
   "metadata": {},
   "outputs": [],
   "source": [
    "import numpy as np\n",
    "import bisect\n",
    "import re\n",
    "from collections import Counter"
   ]
  },
  {
   "cell_type": "code",
   "execution_count": 1,
   "metadata": {},
   "outputs": [],
   "source": [
    "def read_input(day, map_f=lambda x:x.strip()):\n",
    "    with open(f\"input{day}.txt\") as f:\n",
    "        return list(map(map_f, f.readlines()))\n",
    "\n",
    "def binary_search(a, x, low=0, hi=None):\n",
    "    if hi is None:\n",
    "        hi = len(a)\n",
    "    'Locate the leftmost value exactly equal to x'\n",
    "    i = bisect.bisect_left(a, x, low, hi)\n",
    "    if i != len(a) and a[i] == x:\n",
    "        return i\n",
    "    return -1"
   ]
  },
  {
   "cell_type": "markdown",
   "metadata": {},
   "source": [
    "# Day 1"
   ]
  },
  {
   "cell_type": "code",
   "execution_count": 7,
   "metadata": {},
   "outputs": [
    {
     "name": "stdout",
     "output_type": "stream",
     "text": [
      "Numbers found: 81,1939\tProduct: 157059\n",
      "Numbers found: 352,358,1310\tProduct: 165080960\n"
     ]
    }
   ],
   "source": [
    "target_sum = 2020\n",
    "numbers_count = Counter(read_input(1, lambda x: int(x)))\n",
    "\n",
    "def find_pair(numbers_count, target_sum):\n",
    "    for n, count in numbers_count.items():\n",
    "        left = target_sum - n\n",
    "        if left == n and count >= 2:\n",
    "            print(f\"Numbers found: {n},{left}\\tProduct: {left*n}\")\n",
    "            return\n",
    "        elif left in numbers_count:\n",
    "            print(f\"Numbers found: {n},{left}\\tProduct: {left*n}\")\n",
    "            return\n",
    "    print(f\"Pair with sum equal to {target_sum} not found.\")\n",
    "\n",
    "\n",
    "def find_triple(numbers_count, target_sum):\n",
    "    for n1, count1 in numbers_count.items():\n",
    "        for n2, count2 in numbers_count.items():\n",
    "            if n1 == n2 and count1 <= 1:\n",
    "                continue\n",
    "            left = target_sum - n1 - n2\n",
    "            if left < 0:\n",
    "                continue\n",
    "            if left == n1 == n2 and count1 >= 3:\n",
    "                print(f\"Numbers found: {n1},{n2},{left}\\tProduct: {left*n1*n2}\")\n",
    "                return\n",
    "            elif left in numbers_count:\n",
    "                print(f\"Numbers found: {n1},{n2},{left}\\tProduct: {left*n1*n2}\")\n",
    "                return\n",
    "    print(f\"Triple with sum equal to {target_sum} not found.\")\n",
    "\n",
    "find_pair(numbers_count, target_sum)\n",
    "find_triple(numbers_count, target_sum)"
   ]
  },
  {
   "cell_type": "markdown",
   "metadata": {},
   "source": [
    "# Day 2"
   ]
  },
  {
   "cell_type": "code",
   "execution_count": 9,
   "metadata": {},
   "outputs": [
    {
     "name": "stdout",
     "output_type": "stream",
     "text": [
      "Valid passwords according to first method: 660\n",
      "Valid passwords according to second method: 530\n"
     ]
    }
   ],
   "source": [
    "password_list = read_input(2, lambda x: re.match(r\"(\\d+)\\-(\\d+) ([a-z]): ([a-z]+)\", x).groups())\n",
    "\n",
    "def count_valid_passwords(password_list):\n",
    "    valid_m1 = 0\n",
    "    valid_m2 = 0\n",
    "    for l, h, c, password in password_list:\n",
    "        l = int(l)\n",
    "        h = int(h)\n",
    "        counter = Counter(password)\n",
    "        if l <= counter[c] <= h:\n",
    "            valid_m1 += 1\n",
    "            \n",
    "        is_l = password[l-1] == c\n",
    "        is_h = password[h-1] == c\n",
    "\n",
    "        if is_l ^ is_h:\n",
    "            valid_m2 += 1\n",
    "\n",
    "    print(f\"Valid passwords according to first method: {valid_m1}\")\n",
    "    print(f\"Valid passwords according to second method: {valid_m2}\")\n",
    "\n",
    "count_valid_passwords(password_list)"
   ]
  },
  {
   "cell_type": "markdown",
   "metadata": {},
   "source": [
    "# Day 3"
   ]
  },
  {
   "cell_type": "code",
   "execution_count": 22,
   "metadata": {},
   "outputs": [
    {
     "name": "stdout",
     "output_type": "stream",
     "text": [
      "Trees count: 195\n",
      "Trees product for different slopes: 3772314000\n"
     ]
    }
   ],
   "source": [
    "map_t = read_input(3)\n",
    "\n",
    "def count_trees_on_slope(map_t, slope):\n",
    "    d_j, d_i = slope\n",
    "    rows = len(map_t)\n",
    "    cols = len(map_t[0])\n",
    "    i, j = 0, 0\n",
    "    trees = 0\n",
    "    while True:\n",
    "        i += d_i\n",
    "        j = (j + d_j) % cols\n",
    "        if i >= rows:\n",
    "            break\n",
    "        if map_t[i][j] == '#':\n",
    "            trees += 1\n",
    "    return trees\n",
    "\n",
    "trees_31 = count_trees_on_slope(map_t, (3,1))\n",
    "print(f\"Trees count: {trees_31}\")\n",
    "\n",
    "slopes = [(1, 1), (3, 1), (5, 1), (7, 1), (1, 2)]\n",
    "trees_product = 1\n",
    "for slope in slopes:\n",
    "    trees_product *= count_trees_on_slope(map_t, slope)\n",
    "print(f\"Trees product for different slopes: {trees_product}\")"
   ]
  }
 ],
 "metadata": {
  "kernelspec": {
   "display_name": "Python 3",
   "language": "python",
   "name": "python3"
  },
  "language_info": {
   "codemirror_mode": {
    "name": "ipython",
    "version": 3
   },
   "file_extension": ".py",
   "mimetype": "text/x-python",
   "name": "python",
   "nbconvert_exporter": "python",
   "pygments_lexer": "ipython3",
   "version": "3.8.5"
  }
 },
 "nbformat": 4,
 "nbformat_minor": 4
}
