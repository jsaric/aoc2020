{
 "cells": [
  {
   "cell_type": "markdown",
   "metadata": {},
   "source": [
    "# Imports and Utilities"
   ]
  },
  {
   "cell_type": "code",
   "execution_count": 1,
   "metadata": {},
   "outputs": [],
   "source": [
    "import numpy as np\n",
    "import bisect\n",
    "import re\n",
    "from collections import Counter, defaultdict\n",
    "import itertools"
   ]
  },
  {
   "cell_type": "code",
   "execution_count": 2,
   "metadata": {},
   "outputs": [],
   "source": [
    "def read_input(day, map_f=lambda x:x.strip(), newline='\\n'):\n",
    "    with open(f\"input{day}.txt\", 'r') as f:\n",
    "        return list(map(map_f, f.read().strip().split(newline)))\n",
    "\n",
    "def binary_search(a, x, low=0, hi=None):\n",
    "    if hi is None:\n",
    "        hi = len(a)\n",
    "    'Locate the leftmost value exactly equal to x'\n",
    "    i = bisect.bisect_left(a, x, low, hi)\n",
    "    if i != len(a) and a[i] == x:\n",
    "        return i\n",
    "    return -1"
   ]
  },
  {
   "cell_type": "markdown",
   "metadata": {},
   "source": [
    "# Day 1"
   ]
  },
  {
   "cell_type": "code",
   "execution_count": 3,
   "metadata": {},
   "outputs": [
    {
     "name": "stdout",
     "output_type": "stream",
     "text": [
      "Numbers found: 81,1939\tProduct: 157059\n",
      "Numbers found: 352,358,1310\tProduct: 165080960\n"
     ]
    }
   ],
   "source": [
    "target_sum = 2020\n",
    "numbers_count = Counter(read_input(1, lambda x: int(x)))\n",
    "\n",
    "def find_pair(numbers_count, target_sum):\n",
    "    for n, count in numbers_count.items():\n",
    "        left = target_sum - n\n",
    "        if left == n and count >= 2:\n",
    "            print(f\"Numbers found: {n},{left}\\tProduct: {left*n}\")\n",
    "            return\n",
    "        elif left in numbers_count:\n",
    "            print(f\"Numbers found: {n},{left}\\tProduct: {left*n}\")\n",
    "            return\n",
    "    print(f\"Pair with sum equal to {target_sum} not found.\")\n",
    "\n",
    "\n",
    "def find_triple(numbers_count, target_sum):\n",
    "    for n1, count1 in numbers_count.items():\n",
    "        for n2, count2 in numbers_count.items():\n",
    "            if n1 == n2 and count1 <= 1:\n",
    "                continue\n",
    "            left = target_sum - n1 - n2\n",
    "            if left < 0:\n",
    "                continue\n",
    "            if left == n1 == n2 and count1 >= 3:\n",
    "                print(f\"Numbers found: {n1},{n2},{left}\\tProduct: {left*n1*n2}\")\n",
    "                return\n",
    "            elif left in numbers_count:\n",
    "                print(f\"Numbers found: {n1},{n2},{left}\\tProduct: {left*n1*n2}\")\n",
    "                return\n",
    "    print(f\"Triple with sum equal to {target_sum} not found.\")\n",
    "\n",
    "find_pair(numbers_count, target_sum)\n",
    "find_triple(numbers_count, target_sum)"
   ]
  },
  {
   "cell_type": "markdown",
   "metadata": {},
   "source": [
    "# Day 2"
   ]
  },
  {
   "cell_type": "code",
   "execution_count": 4,
   "metadata": {},
   "outputs": [
    {
     "name": "stdout",
     "output_type": "stream",
     "text": [
      "Valid passwords according to first method: 660\n",
      "Valid passwords according to second method: 530\n"
     ]
    }
   ],
   "source": [
    "password_list = read_input(2, lambda x: re.match(r\"(\\d+)\\-(\\d+) ([a-z]): ([a-z]+)\", x).groups())\n",
    "\n",
    "def count_valid_passwords(password_list):\n",
    "    valid_m1 = 0\n",
    "    valid_m2 = 0\n",
    "    for l, h, c, password in password_list:\n",
    "        l = int(l)\n",
    "        h = int(h)\n",
    "        counter = Counter(password)\n",
    "        if l <= counter[c] <= h:\n",
    "            valid_m1 += 1\n",
    "            \n",
    "        is_l = password[l-1] == c\n",
    "        is_h = password[h-1] == c\n",
    "\n",
    "        if is_l ^ is_h:\n",
    "            valid_m2 += 1\n",
    "\n",
    "    print(f\"Valid passwords according to first method: {valid_m1}\")\n",
    "    print(f\"Valid passwords according to second method: {valid_m2}\")\n",
    "\n",
    "count_valid_passwords(password_list)"
   ]
  },
  {
   "cell_type": "markdown",
   "metadata": {},
   "source": [
    "# Day 3"
   ]
  },
  {
   "cell_type": "code",
   "execution_count": 5,
   "metadata": {},
   "outputs": [
    {
     "name": "stdout",
     "output_type": "stream",
     "text": [
      "Trees count: 195\n",
      "Trees product for different slopes: 3772314000\n"
     ]
    }
   ],
   "source": [
    "map_t = read_input(3)\n",
    "\n",
    "def count_trees_on_slope(map_t, slope):\n",
    "    d_j, d_i = slope\n",
    "    rows = len(map_t)\n",
    "    cols = len(map_t[0])\n",
    "    i, j = 0, 0\n",
    "    trees = 0\n",
    "    while True:\n",
    "        i += d_i\n",
    "        j = (j + d_j) % cols\n",
    "        if i >= rows:\n",
    "            break\n",
    "        if map_t[i][j] == '#':\n",
    "            trees += 1\n",
    "    return trees\n",
    "\n",
    "trees_31 = count_trees_on_slope(map_t, (3,1))\n",
    "print(f\"Trees count: {trees_31}\")\n",
    "\n",
    "slopes = [(1, 1), (3, 1), (5, 1), (7, 1), (1, 2)]\n",
    "trees_product = 1\n",
    "for slope in slopes:\n",
    "    trees_product *= count_trees_on_slope(map_t, slope)\n",
    "print(f\"Trees product for different slopes: {trees_product}\")"
   ]
  },
  {
   "cell_type": "markdown",
   "metadata": {},
   "source": [
    "# Day 4"
   ]
  },
  {
   "cell_type": "code",
   "execution_count": 6,
   "metadata": {},
   "outputs": [
    {
     "name": "stdout",
     "output_type": "stream",
     "text": [
      "Valid passports: 202, 137\n"
     ]
    }
   ],
   "source": [
    "passports = []\n",
    "for pair_list in read_input(4, map_f = lambda x: re.split('\\n| ', x), newline='\\n\\n'):\n",
    "    pp = {}\n",
    "    for pair in pair_list:\n",
    "        k, v = pair.split(':')\n",
    "        pp[k] = v\n",
    "    passports.append(pp)\n",
    "\n",
    "def check_height(s):\n",
    "    if match:=re.match(r\"^([0-9]+)cm$\", s):\n",
    "        if 150 <= int(match.groups()[0]) <= 193:\n",
    "            return True\n",
    "        else:\n",
    "            return False\n",
    "    elif match:=re.match(r\"^([0-9]+)in$\", s):\n",
    "        if 59 <= int(match.groups()[0]) <= 76:\n",
    "            return True\n",
    "        else:\n",
    "            return False\n",
    "    else:\n",
    "        return False\n",
    "        \n",
    "keys_and_checks = [\n",
    "    ('byr', lambda x: re.match(r\"^[0-9]{4}$\", x) and 1920 <= int(x) <= 2002), \n",
    "    ('iyr', lambda x: re.match(r\"^[0-9]{4}$\", x) and 2010 <= int(x) <= 2020), \n",
    "    ('eyr', lambda x: re.match(r\"^[0-9]{4}$\", x) and 2020 <= int(x) <= 2030),\n",
    "    ('hgt', check_height),\n",
    "    ('hcl', lambda x: re.match(r\"^\\#[0-9a-f]{6}$\", x)), \n",
    "    ('ecl', lambda x: any([x == s for s in [\"amb\", \"blu\", \"brn\", \"gry\", \"grn\", \"hzl\", \"oth\"]])), \n",
    "    ('pid', lambda x: re.match(r\"^[0-9]{9}$\", x))\n",
    "]\n",
    "\n",
    "def count_valid_passports(passports, necessary_keys):\n",
    "    valid_m1 = 0\n",
    "    valid_m2 = 0\n",
    "    for passport in passports:\n",
    "        if not all([key in passport for key, _ in necessary_keys]):\n",
    "            continue\n",
    "        valid_m1 += 1\n",
    "        if all([f(passport[key]) for key, f in necessary_keys]):\n",
    "            valid_m2 += 1\n",
    "    return valid_m1, valid_m2\n",
    "\n",
    "valid_m1, valid_m2 = count_valid_passports(passports, keys_and_checks)\n",
    "print(f\"Valid passports: {valid_m1}, {valid_m2}\")"
   ]
  },
  {
   "cell_type": "markdown",
   "metadata": {},
   "source": [
    "# Day 5"
   ]
  },
  {
   "cell_type": "code",
   "execution_count": 7,
   "metadata": {},
   "outputs": [
    {
     "name": "stdout",
     "output_type": "stream",
     "text": [
      "Max seat id: 888\n",
      "My seat id: 522\n"
     ]
    }
   ],
   "source": [
    "rows = 128\n",
    "cols = 8\n",
    "\n",
    "def decode_row(s):\n",
    "    assert(len(s) == 7)\n",
    "    s = s.replace('B', '1')\n",
    "    s = s.replace('F', '0')\n",
    "    return int(s, 2)\n",
    "\n",
    "def decode_col(s):\n",
    "    assert(len(s) == 3)\n",
    "    s = s.replace('L', '0')\n",
    "    s = s.replace('R', '1')\n",
    "    return int(s, 2)\n",
    "\n",
    "def decode_seat(s):\n",
    "    row = decode_row(s[:7])\n",
    "    col = decode_col(s[7:])\n",
    "    return (row, col)\n",
    "\n",
    "def seat2id(x):\n",
    "    return x[0] * cols + x[1]\n",
    "\n",
    "def id2seat(seat_id):\n",
    "    return (seat_id // cols, seat_id % cols)\n",
    "\n",
    "seats = set(read_input(5, map_f=decode_seat))\n",
    "\n",
    "max_id_seat = max(seats, key=seat2id)\n",
    "print(f\"Max seat id: {seat2id(max_id_seat)}\")\n",
    "\n",
    "for i in range(1, rows - 1):\n",
    "    for j in range(cols):\n",
    "        if (i, j) not in seats:\n",
    "            seat_id = seat2id((i, j))\n",
    "            seat_p = id2seat(seat_id + 1)\n",
    "            seat_m = id2seat(seat_id - 1)\n",
    "            if seat_p in seats and seat_m in seats:\n",
    "                print(f\"My seat id: {seat_id}\")"
   ]
  },
  {
   "cell_type": "markdown",
   "metadata": {},
   "source": [
    "# Day 6    "
   ]
  },
  {
   "cell_type": "code",
   "execution_count": 8,
   "metadata": {},
   "outputs": [
    {
     "name": "stdout",
     "output_type": "stream",
     "text": [
      "Count of questions anyone in group answered: 6735\n",
      "Count of questions everyone in group answered: 3221\n"
     ]
    }
   ],
   "source": [
    "group_answers = read_input(6, newline='\\n\\n', map_f=lambda x: re.split(r\"\\n\", x))\n",
    "\n",
    "def count_answers_anyone(group_answers):\n",
    "    count = 0\n",
    "    for group in group_answers:\n",
    "        count += len(set(\"\".join(group)))\n",
    "    return count\n",
    "\n",
    "def count_answers_everyone(group_answers):\n",
    "    count = 0\n",
    "    for group in group_answers:\n",
    "        group_counter = Counter(\"\".join(group))\n",
    "        for k, v in group_counter.items():\n",
    "            if v == len(group):\n",
    "                count += 1\n",
    "    return count\n",
    "\n",
    "print(f\"Count of questions anyone in group answered: {count_answers_anyone(group_answers)}\")\n",
    "print(f\"Count of questions everyone in group answered: {count_answers_everyone(group_answers)}\")"
   ]
  },
  {
   "cell_type": "markdown",
   "metadata": {},
   "source": [
    "# Day 7"
   ]
  },
  {
   "cell_type": "code",
   "execution_count": 9,
   "metadata": {},
   "outputs": [
    {
     "name": "stdout",
     "output_type": "stream",
     "text": [
      "Total number of bags that can eventually contain shiny gold bag: 177\n",
      "Total number of bags shiny gold bag contains: 34988\n"
     ]
    }
   ],
   "source": [
    "rules_list = read_input(7, map_f=lambda x: re.match(r\"([a-z ]+) bags contain ([0-9a-z, ]*)\", x).groups())\n",
    "\n",
    "color2content = defaultdict(list)\n",
    "color2parents = defaultdict(list)\n",
    "\n",
    "for bag, content in rules_list:\n",
    "    bag = bag.strip()\n",
    "    for count, color in re.findall(r\"([0-9]+)([a-z ]+) bag\", content):\n",
    "        count = int(count)\n",
    "        color = color.strip()\n",
    "        color2content[bag] += [(count, color)]\n",
    "        color2parents[color] += [bag]\n",
    "\n",
    "def count_bags_containing_color(color, color2parents):\n",
    "    visited = set()\n",
    "    opened_list = list(color2parents[color])\n",
    "    while opened_list != []:\n",
    "        current = opened_list.pop()\n",
    "        if current in visited:\n",
    "            continue\n",
    "        visited.add(current)\n",
    "        opened_list += color2parents[current]\n",
    "    return len(visited)\n",
    "\n",
    "def count_total_bags_contained(color, color2content):\n",
    "    total = 0\n",
    "    for count, c in color2content[color]:\n",
    "        total += count + count * count_total_bags_contained(c, color2content)\n",
    "    return total\n",
    "\n",
    "print(f\"Total number of bags that can eventually contain shiny gold bag: {count_bags_containing_color('shiny gold', color2parents)}\")\n",
    "print(f\"Total number of bags shiny gold bag contains: {count_total_bags_contained('shiny gold', color2content)}\")\n"
   ]
  },
  {
   "cell_type": "markdown",
   "metadata": {},
   "source": [
    "# Day 8"
   ]
  },
  {
   "cell_type": "code",
   "execution_count": 10,
   "metadata": {},
   "outputs": [
    {
     "name": "stdout",
     "output_type": "stream",
     "text": [
      "Acc before instruction repeats: 1489\n",
      "Acc after fixing the code: 1539\n"
     ]
    }
   ],
   "source": [
    "instructions = read_input(8, map_f=lambda x: x.split())\n",
    "\n",
    "def acc_before_instr_repeats(instructions):\n",
    "    acc = 0\n",
    "    pc = 0\n",
    "    executed = set()\n",
    "    while True:\n",
    "        if pc in executed:\n",
    "            return acc, -1\n",
    "        if pc >= len(instructions):\n",
    "            return acc, +1\n",
    "        op, arg = instructions[pc]\n",
    "        executed.add(pc)\n",
    "        if op == \"acc\":\n",
    "            acc += int(arg)\n",
    "            pc += 1\n",
    "        elif op == \"jmp\":\n",
    "            pc += int(arg)\n",
    "        else:\n",
    "            pc += 1\n",
    "\n",
    "def fix_code(instructions):\n",
    "    for i, (op, arg) in enumerate(instructions):\n",
    "        if op == \"jmp\":\n",
    "            instructions[i] = (\"nop\", arg)\n",
    "            acc, ret = acc_before_instr_repeats(instructions)\n",
    "            if ret == 1:\n",
    "                return acc\n",
    "            instructions[i] = (op, arg)\n",
    "        elif op == \"nop\":\n",
    "            instructions[i] = (\"jmp\", arg)\n",
    "            acc, ret = acc_before_instr_repeats(instructions)\n",
    "            if ret == 1:\n",
    "                return acc\n",
    "            instructions[i] = (op, arg)\n",
    "\n",
    "print(f\"Acc before instruction repeats: {acc_before_instr_repeats(instructions)[0]}\")\n",
    "print(f\"Acc after fixing the code: {fix_code(instructions)}\")"
   ]
  },
  {
   "cell_type": "markdown",
   "metadata": {},
   "source": [
    "# Day 9"
   ]
  },
  {
   "cell_type": "code",
   "execution_count": 11,
   "metadata": {},
   "outputs": [
    {
     "name": "stdout",
     "output_type": "stream",
     "text": [
      "First invalid number: 144381670\n",
      "Min max sum: 20532569\n"
     ]
    }
   ],
   "source": [
    "numbers = read_input(9, map_f=int)\n",
    "\n",
    "def sum_exists(num_list, target):\n",
    "    num_count = Counter(num_list)\n",
    "    for n1 in num_list:\n",
    "        n2 = target - n1\n",
    "        if n1 == n2 and num_count[n1] >= 2:\n",
    "            return True\n",
    "        elif n2 in num_count:\n",
    "            return True\n",
    "    return False\n",
    "\n",
    "def find_first_invalid_num(num_list, preamble_len):\n",
    "    for i, n in zip(range(preamble_len, len(numbers)), numbers[preamble_len:]):\n",
    "        if not sum_exists(numbers[i-preamble_len: i], n):\n",
    "            return n\n",
    "\n",
    "def find_contigous_sum(num_list, target):\n",
    "    l = 0\n",
    "    r = 1\n",
    "    sum_val = num_list[l]\n",
    "    while True:\n",
    "        if sum_val == invalid_num:\n",
    "            return l, r, min(numbers[l:r]) + max(numbers[l:r])\n",
    "        elif sum_val < invalid_num:\n",
    "            r += 1\n",
    "            sum_val += num_list[r - 1]\n",
    "        elif sum_val > invalid_num:\n",
    "            sum_val -= num_list[l]\n",
    "            l += 1\n",
    "\n",
    "invalid_num = find_first_invalid_num(numbers, 25)\n",
    "print(f\"First invalid number: {invalid_num}\")\n",
    "left, right, min_max_sum = find_contigous_sum(numbers, invalid_num)\n",
    "print(f\"Min max sum: {min_max_sum}\")"
   ]
  },
  {
   "cell_type": "code",
   "execution_count": null,
   "metadata": {},
   "outputs": [],
   "source": []
  }
 ],
 "metadata": {
  "kernelspec": {
   "display_name": "Python 3",
   "language": "python",
   "name": "python3"
  },
  "language_info": {
   "codemirror_mode": {
    "name": "ipython",
    "version": 3
   },
   "file_extension": ".py",
   "mimetype": "text/x-python",
   "name": "python",
   "nbconvert_exporter": "python",
   "pygments_lexer": "ipython3",
   "version": "3.8.5"
  }
 },
 "nbformat": 4,
 "nbformat_minor": 4
}
